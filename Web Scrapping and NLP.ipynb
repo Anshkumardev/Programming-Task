{
 "cells": [
  {
   "cell_type": "markdown",
   "id": "6283e220",
   "metadata": {},
   "source": [
    "## Importing Libraries"
   ]
  },
  {
   "cell_type": "code",
   "execution_count": 1,
   "id": "4b761c31",
   "metadata": {},
   "outputs": [
    {
     "name": "stderr",
     "output_type": "stream",
     "text": [
      "[nltk_data] Downloading package punkt to\n",
      "[nltk_data]     C:\\Users\\anshk\\AppData\\Roaming\\nltk_data...\n",
      "[nltk_data]   Package punkt is already up-to-date!\n",
      "[nltk_data] Downloading package averaged_perceptron_tagger to\n",
      "[nltk_data]     C:\\Users\\anshk\\AppData\\Roaming\\nltk_data...\n",
      "[nltk_data]   Package averaged_perceptron_tagger is already up-to-\n",
      "[nltk_data]       date!\n",
      "[nltk_data] Downloading package stopwords to\n",
      "[nltk_data]     C:\\Users\\anshk\\AppData\\Roaming\\nltk_data...\n",
      "[nltk_data]   Package stopwords is already up-to-date!\n"
     ]
    },
    {
     "data": {
      "text/plain": [
       "True"
      ]
     },
     "execution_count": 1,
     "metadata": {},
     "output_type": "execute_result"
    }
   ],
   "source": [
    "import requests\n",
    "from bs4 import BeautifulSoup as bs\n",
    "from urllib.request import urlopen\n",
    "import logging\n",
    "import nltk\n",
    "from nltk.tokenize import sent_tokenize, word_tokenize\n",
    "from nltk import pos_tag\n",
    "from nltk.corpus import stopwords\n",
    "\n",
    "nltk.download('punkt')\n",
    "nltk.download('averaged_perceptron_tagger')\n",
    "nltk.download('stopwords')"
   ]
  },
  {
   "cell_type": "markdown",
   "id": "32839d78",
   "metadata": {},
   "source": [
    "### Link to the website used"
   ]
  },
  {
   "cell_type": "code",
   "execution_count": 2,
   "id": "8fc9e09c",
   "metadata": {},
   "outputs": [],
   "source": [
    "url = 'https://www.healthline.com/directory/topics'"
   ]
  },
  {
   "cell_type": "markdown",
   "id": "6a011320",
   "metadata": {},
   "source": [
    "### Webpage Data Retrieval and Parsing"
   ]
  },
  {
   "cell_type": "code",
   "execution_count": 3,
   "id": "d876fad3",
   "metadata": {},
   "outputs": [],
   "source": [
    "# Open a connection to the URL and read the page data\n",
    "urlclient = urlopen(url)\n",
    "page_data = urlclient.read()\n",
    "\n",
    "# Parse the HTML content of the page using BeautifulSoup\n",
    "page_data_html = bs(page_data, 'html.parser')\n",
    "\n",
    "# Find all anchor elements with a specific CSS class\n",
    "all_data_names = page_data_html.find_all(\"a\", class_=\"css-1hacg05\")"
   ]
  },
  {
   "cell_type": "code",
   "execution_count": 4,
   "id": "b62e2694",
   "metadata": {},
   "outputs": [
    {
     "data": {
      "text/plain": [
       "150"
      ]
     },
     "execution_count": 4,
     "metadata": {},
     "output_type": "execute_result"
    }
   ],
   "source": [
    "# Print the number of elements found\n",
    "len(all_data_names)"
   ]
  },
  {
   "cell_type": "markdown",
   "id": "40b5090d",
   "metadata": {},
   "source": [
    "### Webpage Data Scraping and Processing"
   ]
  },
  {
   "cell_type": "code",
   "execution_count": 5,
   "id": "c8f240a3",
   "metadata": {},
   "outputs": [],
   "source": [
    "data_list = []\n",
    "    \n",
    "# Iterate through the anchor elements and scrape data from each linked webpage\n",
    "for i in all_data_names:\n",
    "    page_link = i['href']  # Get the URL from the 'href' attribute\n",
    "    page_data = requests.get(page_link)  # Send an HTTP request to the URL\n",
    "    page_data_html = bs(page_data.text, \"html.parser\")  # Parse the HTML content of the linked webpage\n",
    "    paragraphs = page_data_html.find_all('p')  # Find all 'p' elements (paragraphs)\n",
    "    all_text = [para.get_text() for para in paragraphs]  # Extract text from paragraphs\n",
    "    data_string = ''.join(all_text)  # Join the extracted text to create a single string\n",
    "    data_list.append(data_string)  # Append the string to the data_list"
   ]
  },
  {
   "cell_type": "markdown",
   "id": "f562dd1d",
   "metadata": {},
   "source": [
    "### Text Analysis Functions"
   ]
  },
  {
   "cell_type": "code",
   "execution_count": 6,
   "id": "c2806310",
   "metadata": {},
   "outputs": [],
   "source": [
    "# Function to count sentences in a given text\n",
    "def count_sentences(text):\n",
    "    sentences = sent_tokenize(text)\n",
    "    return len(sentences)\n",
    "\n",
    "# Function to count words in a given text\n",
    "def count_words(text):\n",
    "    words = word_tokenize(text)\n",
    "    return len(words)\n",
    "\n",
    "# Function to count nouns in a given text using part-of-speech tagging\n",
    "def count_nouns(text):\n",
    "    words = word_tokenize(text)\n",
    "    tagged_words = pos_tag(words)\n",
    "    nouns = [word for word, pos in tagged_words if pos.startswith('NN')]\n",
    "    return len(nouns)\n",
    "\n",
    "# Function to count verbs in a given text using part-of-speech tagging\n",
    "def count_verbs(text):\n",
    "    words = word_tokenize(text)\n",
    "    tagged_words = pos_tag(words)\n",
    "    verbs = [word for word, pos in tagged_words if pos.startswith('VB')]\n",
    "    return len(verbs)\n",
    "\n",
    "# Function to count stopwords in a given text\n",
    "def count_stopwords(text):\n",
    "    stop_words = set(stopwords.words('english'))\n",
    "    word_tokens = word_tokenize(text)\n",
    "    stopwords_count = len([w for w in word_tokens if w.lower() in stop_words])\n",
    "    return stopwords_count"
   ]
  },
  {
   "cell_type": "markdown",
   "id": "05eba544",
   "metadata": {},
   "source": [
    "### Store Webpage Statistics"
   ]
  },
  {
   "cell_type": "code",
   "execution_count": 7,
   "id": "5de98500",
   "metadata": {},
   "outputs": [],
   "source": [
    "# Create an empty list to store statistics for each webpage\n",
    "statistics = []\n",
    "\n",
    "# Iterating through the scraped data and calculate statistics\n",
    "for page_text, page_link in zip(data_list, [i['href'] for i in all_data_names]):\n",
    "    \n",
    "    # Creating a dictionary to store statistics for the current webpage\n",
    "    page_stats = {\n",
    "        'page_link': page_link,                 # Store the webpage link in the dictionary\n",
    "        'num_sentences': count_sentences(page_text),  # Calculate the number of sentences\n",
    "        'num_words': count_words(page_text),        # Calculate the number of words\n",
    "        'num_nouns': count_nouns(page_text),        # Calculate the number of nouns\n",
    "        'num_verbs': count_verbs(page_text),        # Calculate the number of verbs\n",
    "        'num_stopwords': count_stopwords(page_text)  # Calculate the number of stopwords\n",
    "    }\n",
    "    statistics.append(page_stats) \n"
   ]
  },
  {
   "cell_type": "code",
   "execution_count": 8,
   "id": "75fd221f",
   "metadata": {},
   "outputs": [],
   "source": [
    "import csv\n",
    "\n",
    "filename = 'nlp_statistics.csv'\n",
    "\n",
    "fields = ['page_link','num_sentences', 'num_words', 'num_nouns', 'num_verbs', 'num_stopwords']\n",
    "\n",
    "# Writing to csv file\n",
    "with open(filename, 'w', newline='') as csvfile:\n",
    "    writer = csv.DictWriter(csvfile, fieldnames=fields)\n",
    "\n",
    "    writer.writeheader()\n",
    "    writer.writerows(statistics)"
   ]
  },
  {
   "cell_type": "code",
   "execution_count": 9,
   "id": "5a470164",
   "metadata": {},
   "outputs": [
    {
     "name": "stdout",
     "output_type": "stream",
     "text": [
      "aggregated_results.csv\n"
     ]
    }
   ],
   "source": [
    "import csv\n",
    "\n",
    "# Calculating the average of each statistic\n",
    "average_statistics = {\n",
    "    'avg_num_sentences': sum(stat['num_sentences'] for stat in statistics) / len(statistics),\n",
    "    'avg_num_words': sum(stat['num_words'] for stat in statistics) / len(statistics),\n",
    "    'avg_num_nouns': sum(stat['num_nouns'] for stat in statistics) / len(statistics),\n",
    "    'avg_num_verbs': sum(stat['num_verbs'] for stat in statistics) / len(statistics),\n",
    "    'avg_num_stopwords': sum(stat['num_stopwords'] for stat in statistics) / len(statistics),\n",
    "}\n",
    "\n",
    "\n",
    "aggregated_results_file = 'aggregated_results.csv'\n",
    "\n",
    "with open(aggregated_results_file, 'w', newline='') as csvfile:\n",
    "    writer = csv.DictWriter(csvfile, fieldnames=average_statistics.keys())\n",
    "    writer.writeheader()\n",
    "    writer.writerow(average_statistics)\n",
    "\n",
    "print(aggregated_results_file)\n"
   ]
  }
 ],
 "metadata": {
  "kernelspec": {
   "display_name": "Python 3 (ipykernel)",
   "language": "python",
   "name": "python3"
  },
  "language_info": {
   "codemirror_mode": {
    "name": "ipython",
    "version": 3
   },
   "file_extension": ".py",
   "mimetype": "text/x-python",
   "name": "python",
   "nbconvert_exporter": "python",
   "pygments_lexer": "ipython3",
   "version": "3.11.5"
  }
 },
 "nbformat": 4,
 "nbformat_minor": 5
}
